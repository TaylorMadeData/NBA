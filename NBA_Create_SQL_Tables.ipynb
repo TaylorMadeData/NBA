{
 "cells": [
  {
   "cell_type": "markdown",
   "metadata": {},
   "source": [
    "### Import Libraries"
   ]
  },
  {
   "cell_type": "code",
   "execution_count": 10,
   "metadata": {},
   "outputs": [],
   "source": [
    "import sqlite3\n",
    "\n",
    "# sqlite3 docs\n",
    "    # https://docs.python.org/3/library/sqlite3.html"
   ]
  },
  {
   "cell_type": "markdown",
   "metadata": {},
   "source": [
    "### Create Database Variable"
   ]
  },
  {
   "cell_type": "code",
   "execution_count": 11,
   "metadata": {},
   "outputs": [],
   "source": [
    "# Create DB B\n",
    "db = 'NBA.db'"
   ]
  },
  {
   "cell_type": "markdown",
   "metadata": {},
   "source": [
    "### Sample Syntax to Run SQL Query in SQLite"
   ]
  },
  {
   "cell_type": "markdown",
   "metadata": {},
   "source": [
    "<code>conn = sqlite3.connect(db)\n",
    "c = conn.cursor()\n",
    "\n",
    "c.execute('''\n",
    "\n",
    "SQL QUERY HERE\n",
    "\n",
    "''')\n",
    "conn.commit()\n",
    "conn.close()</code>"
   ]
  },
  {
   "cell_type": "markdown",
   "metadata": {},
   "source": [
    "### SQL Create Teams Table"
   ]
  },
  {
   "cell_type": "code",
   "execution_count": 9,
   "metadata": {},
   "outputs": [],
   "source": [
    "conn = sqlite3.connect(db)\n",
    "c = conn.cursor()\n",
    "\n",
    "c.execute('''\n",
    "\n",
    "CREATE TABLE IF NOT EXISTS teams (\n",
    "\tid INTEGER,\n",
    "\tfull_name TEXT,\n",
    "\tabbreviation TEXT PRIMARY KEY,\n",
    "\tnickname TEXT,\n",
    "\tcity TEXT,\n",
    "\tstate TEXT,\n",
    "\tyear_founded INTEGER)\n",
    "    \n",
    "''')\n",
    "\n",
    "conn.commit()\n",
    "conn.close()"
   ]
  },
  {
   "cell_type": "markdown",
   "metadata": {},
   "source": [
    "### SQL Create Teams ID Table"
   ]
  },
  {
   "cell_type": "code",
   "execution_count": 8,
   "metadata": {},
   "outputs": [],
   "source": [
    "conn = sqlite3.connect(db)\n",
    "c = conn.cursor()\n",
    "\n",
    "c.execute('''\n",
    "\n",
    "CREATE TABLE IF NOT EXISTS team_id (\n",
    "    team_id INTEGER PRIMARY KEY)\n",
    "\n",
    "''')\n",
    "\n",
    "conn.commit()\n",
    "conn.close()"
   ]
  },
  {
   "cell_type": "markdown",
   "metadata": {},
   "source": [
    "### SQL CREATE Players Table"
   ]
  },
  {
   "cell_type": "code",
   "execution_count": 6,
   "metadata": {},
   "outputs": [],
   "source": [
    "conn = sqlite3.connect(db)\n",
    "c = conn.cursor()\n",
    "\n",
    "c.execute('''\n",
    "\n",
    "CREATE TABLE IF NOT EXISTS active_players (\n",
    "    player_id INTEGER,\n",
    "    full_name TEXT,\n",
    "    first_name TEXT,\n",
    "    last_name TEXT,\n",
    "    is_active TEXT)\n",
    "\n",
    "''')\n",
    "\n",
    "conn.commit()\n",
    "conn.close()"
   ]
  },
  {
   "cell_type": "markdown",
   "metadata": {},
   "source": [
    "### SQL Create Player ID table"
   ]
  },
  {
   "cell_type": "code",
   "execution_count": 14,
   "metadata": {},
   "outputs": [],
   "source": [
    "conn = sqlite3.connect(db)\n",
    "c = conn.cursor()\n",
    "\n",
    "c.execute('''\n",
    "\n",
    "CREATE TABLE IF NOT EXISTS active_player_id (\n",
    "    player_id INTEGER PRIMARY KEY)\n",
    "\n",
    "''')\n",
    "\n",
    "conn.commit()\n",
    "conn.close()"
   ]
  },
  {
   "cell_type": "markdown",
   "metadata": {},
   "source": [
    "### SQL Create Player Info Table"
   ]
  },
  {
   "cell_type": "code",
   "execution_count": 15,
   "metadata": {},
   "outputs": [],
   "source": [
    "conn = sqlite3.connect(db)\n",
    "c = conn.cursor()\n",
    "\n",
    "c.execute('''\n",
    "\n",
    "CREATE TABLE IF NOT EXISTS active_player_data (\n",
    "\tPERSON_ID INTEGER,\n",
    "\tFIRST_NAME TEXT,\n",
    "\tLAST_NAME TEXT,\n",
    "\tDISPLAY_FIRST_LAST TEXT,\n",
    "\tDISPLAY_LAST_COMMA_FIRST TEXT,\n",
    "\tDISPLAY_FI_LAST TEXT,\n",
    "\tPLAYER_SLUG BLOB,\n",
    "\tBIRTHDATE BLOB,\n",
    "\tSCHOOL TEXT,\n",
    "\tCOUNTRY TEXT,\n",
    "\tLAST_AFFILIATION TEXT,\n",
    "\tHEIGHT BLOB,\n",
    "\tWEIGHT INTEGER,\n",
    "\tSEASON_EXP INTEGER,\n",
    "\tJERSEY INTEGER,\n",
    "\tPOSITION TEXT,\n",
    "\tROSTERSTATUS TEXT,\n",
    "\tGAMES_PLAYED_CURRENT_SEASON_FLAG TEXT,\n",
    "\tTEAM_ID INTEGER,\n",
    "\tTEAM_NAME TEXT,\n",
    "\tTEAM_ABBREVIATION TEXT,\n",
    "\tTEAM_CODE TEXT,\n",
    "\tTEAM_CITY TEXT,\n",
    "\tPLAYERCODE BLOB,\n",
    "\tFROM_YEAR INTEGER,\n",
    "\tTO_YEAR INTEGER,\n",
    "\tDLEAGUE_FLAG TEXT,\n",
    "\tNBA_FLAG TEXT,\n",
    "\tGAMES_PLAYED_FLAG TEXT,\n",
    "\tDRAFT_YEAR BLOB,\n",
    "\tDRAFT_ROUND BLOB,\n",
    "\tDRAFT_NUMBER BLOB,\n",
    "\tGREATEST_75_FLAG TEXT)\n",
    "    \n",
    "''')\n",
    "\n",
    "conn.commit()\n",
    "conn.close()"
   ]
  },
  {
   "cell_type": "markdown",
   "metadata": {},
   "source": [
    "### SQL Create Game Results Table (total by team)"
   ]
  },
  {
   "cell_type": "code",
   "execution_count": 40,
   "metadata": {},
   "outputs": [],
   "source": [
    "conn = sqlite3.connect(db)\n",
    "c = conn.cursor()\n",
    "\n",
    "c.execute('''\n",
    "\n",
    "    CREATE TABLE IF NOT EXISTS game_results (\n",
    "        SEASON_ID INTEGER,\n",
    "        TEAM_ID INTEGER,\n",
    "        TEAM_ABBREVIATION TEXT,\n",
    "        TEAM_NAME TEXT,\n",
    "        GAME_ID INTEGER,\n",
    "        GAME_DATE date,\n",
    "        MATCHUP BLOB,\n",
    "        WL TEXT,\n",
    "        MIN INTEGER,\n",
    "        PTS INTEGER,\n",
    "        FGM INTEGER,\n",
    "        FGA INTEGER,\n",
    "        FG_PCT REAL,\n",
    "        FG3M INTEGER,\n",
    "        FG3A INTEGER,\n",
    "        FG3_PCT REAL,\n",
    "        FTM INTEGER,\n",
    "        FTA INTEGER,\n",
    "        FT_PCT REAL,\n",
    "        OREB INTEGER,\n",
    "        DREB INTEGER,\n",
    "        REB INTEGER,\n",
    "        AST INTEGER,\n",
    "        STL INTEGER,\n",
    "        BLK INTEGER,\n",
    "        TOV INTEGER,\n",
    "        PF INTEGER,\n",
    "        PLUS_MINUS REAL)\n",
    "\n",
    "''')\n",
    "\n",
    "conn.commit()\n",
    "conn.close()"
   ]
  },
  {
   "cell_type": "markdown",
   "metadata": {},
   "source": [
    "### SQL Create Game ID Table"
   ]
  },
  {
   "cell_type": "code",
   "execution_count": 16,
   "metadata": {},
   "outputs": [],
   "source": [
    "conn = sqlite3.connect(db)\n",
    "c = conn.cursor()\n",
    "\n",
    "c.execute('''\n",
    "\n",
    "CREATE TABLE IF NOT EXISTS game_id (\n",
    "    game_id INTEGER PRIMARY KEY)\n",
    "\n",
    "''')\n",
    "\n",
    "conn.commit()\n",
    "conn.close()"
   ]
  },
  {
   "cell_type": "markdown",
   "metadata": {},
   "source": [
    "### SQL Create Boxscore Table"
   ]
  },
  {
   "cell_type": "code",
   "execution_count": 42,
   "metadata": {},
   "outputs": [],
   "source": [
    "conn = sqlite3.connect(db)\n",
    "c = conn.cursor()\n",
    "\n",
    "c.execute('''\n",
    "\n",
    "CREATE TABLE IF NOT EXISTS boxscores(\n",
    "\tGAME_ID INTEGER,\n",
    "\tTEAM_ID INTEGER,\n",
    "\tTEAM_ABBREVIATION TEXT,\n",
    "\tTEAM_CITY TEXT,\n",
    "\tPLAYER_ID INTEGER,\n",
    "\tPLAYER_NAME TEXT,\n",
    "\tNICKNAME TEXT,\n",
    "\tSTART_POSITION TEXT,\n",
    "\tCOMMENT BLOB,\n",
    "\tMIN BLOB,\n",
    "\tFGM REAL,\n",
    "\tFGA REAL,\n",
    "\tFG_PCT REAL,\n",
    "\tFG3M REAL,\n",
    "\tFG3A REAL,\n",
    "\tFG3_PCT REAL,\n",
    "\tFTM REAL,\n",
    "\tFTA REAL,\n",
    "\tFT_PCT REAL,\n",
    "\tOREB REAL,\n",
    "\tDREB REAL,\n",
    "\tREB REAL,\n",
    "\tAST REAL,\n",
    "\tSTL REAL,\n",
    "\tBLK REAL,\n",
    "\t[TO] REAL,\n",
    "\tPF REAL,\n",
    "\tPTS REAL,\n",
    "\tPLUS_MINUS REAL) \n",
    "\n",
    "''')\n",
    "\n",
    "conn.commit()\n",
    "conn.close()"
   ]
  },
  {
   "attachments": {},
   "cell_type": "markdown",
   "metadata": {},
   "source": [
    "### SQL Create Schedule Table"
   ]
  },
  {
   "cell_type": "code",
   "execution_count": 4,
   "metadata": {},
   "outputs": [],
   "source": [
    "conn = sqlite3.connect(db)\n",
    "c = conn.cursor()\n",
    "\n",
    "c.execute('''\n",
    "\n",
    "CREATE TABLE IF NOT EXISTS schedule (\n",
    "\tgame_id INTEGER,\n",
    "    game_date BLOB,\n",
    "    game_date_time BLOB,\n",
    "    sequence INTEGER,\n",
    "    matchup BLOB,\n",
    "    away TEXT,\n",
    "    home TEXT,\n",
    "    arena TEXT,\n",
    "    city TEXT,\n",
    "    state TEXT,\n",
    "    season TEXT)\n",
    "    \n",
    "''')\n",
    "\n",
    "conn.commit()\n",
    "conn.close()"
   ]
  },
  {
   "attachments": {},
   "cell_type": "markdown",
   "metadata": {},
   "source": [
    "#### SQL Create Conference Table"
   ]
  },
  {
   "cell_type": "code",
   "execution_count": 5,
   "metadata": {},
   "outputs": [],
   "source": [
    "conn = sqlite3.connect(db)\n",
    "c = conn.cursor()\n",
    "\n",
    "c.execute('''\n",
    "\n",
    "CREATE TABLE IF NOT EXISTS conferences (\n",
    "\tteam_name TEXT,\n",
    "    team_acronym TEXT,\n",
    "    conference TEXT,\n",
    "    division TEXT,\n",
    "    logo TEXT)\n",
    "    \n",
    "''')\n",
    "\n",
    "conn.commit()\n",
    "conn.close()"
   ]
  }
 ],
 "metadata": {
  "kernelspec": {
   "display_name": "Python 3.10.6 64-bit",
   "language": "python",
   "name": "python3"
  },
  "language_info": {
   "codemirror_mode": {
    "name": "ipython",
    "version": 3
   },
   "file_extension": ".py",
   "mimetype": "text/x-python",
   "name": "python",
   "nbconvert_exporter": "python",
   "pygments_lexer": "ipython3",
   "version": "3.10.6"
  },
  "orig_nbformat": 4,
  "vscode": {
   "interpreter": {
    "hash": "eaab0263681e19131e4cb06abe9888d3cfa3b9a19a5043a52b7dd698f57e6d9d"
   }
  }
 },
 "nbformat": 4,
 "nbformat_minor": 2
}
